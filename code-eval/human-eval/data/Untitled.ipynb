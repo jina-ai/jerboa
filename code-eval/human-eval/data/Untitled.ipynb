{
 "cells": [
  {
   "cell_type": "code",
   "execution_count": 1,
   "id": "df8e44af-ef31-4841-bff4-1f2956216853",
   "metadata": {},
   "outputs": [],
   "source": [
    "import json\n",
    "\n",
    "with open('HumanEval.jsonl', 'r') as json_file:\n",
    "    json_list = list(json_file)\n",
    "    "
   ]
  },
  {
   "cell_type": "code",
   "execution_count": 2,
   "id": "a47e123c-a957-4a26-8957-0b3994f1b47d",
   "metadata": {},
   "outputs": [],
   "source": [
    "json_list = json_list[0:10]"
   ]
  },
  {
   "cell_type": "code",
   "execution_count": 3,
   "id": "d5fe87a7-1738-43e7-82d3-bca5bea4b1e3",
   "metadata": {},
   "outputs": [],
   "source": [
    "with open('HumanEval3.jsonl', 'w') as file:\n",
    "    for item in json_list:\n",
    "        file.write(item)"
   ]
  },
  {
   "cell_type": "code",
   "execution_count": null,
   "id": "b79c8412-3a29-4324-859a-646822a05974",
   "metadata": {},
   "outputs": [],
   "source": []
  }
 ],
 "metadata": {
  "kernelspec": {
   "display_name": "Python 3 (ipykernel)",
   "language": "python",
   "name": "python3"
  },
  "language_info": {
   "codemirror_mode": {
    "name": "ipython",
    "version": 3
   },
   "file_extension": ".py",
   "mimetype": "text/x-python",
   "name": "python",
   "nbconvert_exporter": "python",
   "pygments_lexer": "ipython3",
   "version": "3.10.6"
  }
 },
 "nbformat": 4,
 "nbformat_minor": 5
}
