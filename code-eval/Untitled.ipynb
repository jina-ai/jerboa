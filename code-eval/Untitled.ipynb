{
 "cells": [
  {
   "cell_type": "code",
   "execution_count": 1,
   "id": "eae2b6b2-5e4b-4586-b928-63d189ed0241",
   "metadata": {},
   "outputs": [
    {
     "name": "stdout",
     "output_type": "stream",
     "text": [
      " HumanEval.jsonl      HumanEval2.jsonl\t'Untitled Folder'\n",
      " HumanEval.jsonl.gz   HumanEval3.jsonl\t Untitled.ipynb\n"
     ]
    }
   ],
   "source": [
    "!ls human-eval/data"
   ]
  },
  {
   "cell_type": "code",
   "execution_count": 1,
   "id": "aaed7e2a-3025-4754-8bcd-de9f1a32e137",
   "metadata": {},
   "outputs": [],
   "source": [
    "import json\n",
    "\n",
    "with open('human-eval/data/HumanEval.jsonl', 'r') as json_file:\n",
    "    json_list = list(json_file)\n",
    "\n",
    "question = [json.loads(item) for item in json_list]\n",
    "    "
   ]
  },
  {
   "cell_type": "code",
   "execution_count": 2,
   "id": "7f97a4cf-0c8f-4a65-b6af-25e5398961c7",
   "metadata": {},
   "outputs": [],
   "source": [
    "list_len = [ len(q['prompt']) for q in question]"
   ]
  },
  {
   "cell_type": "code",
   "execution_count": 3,
   "id": "829e7123-bb31-4c33-853c-b5495dda1fc0",
   "metadata": {},
   "outputs": [
    {
     "data": {
      "text/plain": [
       "164"
      ]
     },
     "execution_count": 3,
     "metadata": {},
     "output_type": "execute_result"
    }
   ],
   "source": [
    "len(question)"
   ]
  },
  {
   "cell_type": "code",
   "execution_count": 4,
   "id": "58f62c70-a158-41c2-a263-97ae43454af1",
   "metadata": {},
   "outputs": [],
   "source": [
    "import json\n",
    "\n",
    "with open('results/starcoder/eval.jsonl_results.jsonl', 'r') as json_file:\n",
    "    results = list(json_file)\n",
    "\n",
    "results_star = [json.loads(item) for item in results]"
   ]
  },
  {
   "cell_type": "code",
   "execution_count": 5,
   "id": "713adfe8-43d1-4860-918b-695852d5b332",
   "metadata": {},
   "outputs": [],
   "source": [
    "with open('results/falcon7b_code_alpaca_v2/eval.jsonl_results.jsonl', 'r') as json_file:\n",
    "    results = list(json_file)\n",
    "\n",
    "results_fal = [json.loads(item) for item in results]"
   ]
  },
  {
   "cell_type": "code",
   "execution_count": 6,
   "id": "00957a08-6f9c-46d0-a66d-f60286f993a6",
   "metadata": {
    "scrolled": true
   },
   "outputs": [
    {
     "name": "stdout",
     "output_type": "stream",
     "text": [
      "from typing import List\n",
      "\n",
      "\n",
      "def has_close_elements(numbers: List[float], threshold: float) -> bool:\n",
      "    \"\"\" Check if in given list of numbers, are any two numbers closer to each other than\n",
      "    given threshold.\n",
      "    >>> has_close_elements([1.0, 2.0, 3.0], 0.5)\n",
      "    False\n",
      "    >>> has_close_elements([1.0, 2.8, 3.0, 4.0, 5.0, 2.0], 0.3)\n",
      "    True\n",
      "    \"\"\"\n",
      "\n"
     ]
    }
   ],
   "source": [
    "print(question[0]['prompt'])"
   ]
  },
  {
   "cell_type": "code",
   "execution_count": 7,
   "id": "08b7f04b-2212-4c20-a5a6-0bee99f2ac97",
   "metadata": {},
   "outputs": [],
   "source": [
    "prompt = question[0]['prompt']"
   ]
  },
  {
   "cell_type": "code",
   "execution_count": 8,
   "id": "a8ca8c4f-9510-4b95-963c-655ffae76c69",
   "metadata": {},
   "outputs": [
    {
     "name": "stdout",
     "output_type": "stream",
     "text": [
      "\n",
      "\n",
      "METADATA = {\n",
      "    'author': 'jt',\n",
      "    'dataset': 'test'\n",
      "}\n",
      "\n",
      "\n",
      "def check(candidate):\n",
      "    assert candidate([1.0, 2.0, 3.9, 4.0, 5.0, 2.2], 0.3) == True\n",
      "    assert candidate([1.0, 2.0, 3.9, 4.0, 5.0, 2.2], 0.05) == False\n",
      "    assert candidate([1.0, 2.0, 5.9, 4.0, 5.0], 0.95) == True\n",
      "    assert candidate([1.0, 2.0, 5.9, 4.0, 5.0], 0.8) == False\n",
      "    assert candidate([1.0, 2.0, 3.0, 4.0, 5.0, 2.0], 0.1) == True\n",
      "    assert candidate([1.1, 2.2, 3.1, 4.1, 5.1], 1.0) == True\n",
      "    assert candidate([1.1, 2.2, 3.1, 4.1, 5.1], 0.5) == False\n",
      "\n",
      "\n"
     ]
    }
   ],
   "source": [
    "print(question[0]['test'])"
   ]
  },
  {
   "cell_type": "code",
   "execution_count": 9,
   "id": "baa9e8d0-de1d-448f-a5b7-0595bc32ea77",
   "metadata": {},
   "outputs": [
    {
     "name": "stdout",
     "output_type": "stream",
     "text": [
      "    for i in range(len(numbers)):\n",
      "        for j in range(i + 1, len(numbers)):\n",
      "            if abs(numbers[i] - numbers[j]) < threshold:\n",
      "                return True\n",
      "    return False\n"
     ]
    }
   ],
   "source": [
    "print(results_star[0]['completion'])"
   ]
  },
  {
   "cell_type": "code",
   "execution_count": 10,
   "id": "55ee038e-7229-4c71-8a31-120b197033d8",
   "metadata": {},
   "outputs": [
    {
     "name": "stdout",
     "output_type": "stream",
     "text": [
      "# Complete function definition here\n",
      "import numpy as np\n",
      " = np.array(list(set))\n",
      "        closeElementsList = sorted(np.abs((x-y)/threshold).tolist())\n"
     ]
    }
   ],
   "source": [
    "print(results_fal[0]['completion'])"
   ]
  },
  {
   "cell_type": "code",
   "execution_count": 11,
   "id": "e319ad42-5eca-49be-ae35-e550fc0a1dd9",
   "metadata": {},
   "outputs": [],
   "source": [
    "from typing import List"
   ]
  },
  {
   "cell_type": "code",
   "execution_count": 12,
   "id": "4c899095-0b44-4739-bb61-94ac891ec664",
   "metadata": {},
   "outputs": [],
   "source": [
    "def has_close_elements(numbers: List[float], threshold: float) -> bool:\n",
    "    for i in range(len(numbers)):\n",
    "        for j in range(i + 1, len(numbers)):\n",
    "            if abs(numbers[i] - numbers[j]) < threshold:\n",
    "                return True\n",
    "    return False    "
   ]
  },
  {
   "cell_type": "code",
   "execution_count": 13,
   "id": "cc90b701-3088-440c-ab76-fd8db9f0a2a4",
   "metadata": {},
   "outputs": [
    {
     "data": {
      "text/plain": [
       "False"
      ]
     },
     "execution_count": 13,
     "metadata": {},
     "output_type": "execute_result"
    }
   ],
   "source": [
    "has_close_elements([1.0, 2.0, 3.0], 0.5)"
   ]
  },
  {
   "cell_type": "code",
   "execution_count": 14,
   "id": "3de4cc77-4868-4787-97d8-a38437686045",
   "metadata": {},
   "outputs": [
    {
     "data": {
      "text/plain": [
       "True"
      ]
     },
     "execution_count": 14,
     "metadata": {},
     "output_type": "execute_result"
    }
   ],
   "source": [
    "has_close_elements([1.0, 2.8, 3.0, 4.0, 5.0, 2.0], 0.3)"
   ]
  },
  {
   "cell_type": "code",
   "execution_count": 15,
   "id": "921a80ee-c042-4ce7-9cac-a82b2e5ce545",
   "metadata": {},
   "outputs": [],
   "source": [
    "def has_close_elements(numbers: List[float], threshold: float) -> bool:\n",
    "    return sum([abs(a - b) <= threshold for a, b in zip(numbers, numbers[1:])]) > 0"
   ]
  },
  {
   "cell_type": "code",
   "execution_count": 16,
   "id": "621b0765-a861-4b9e-97a4-4f806e0ca309",
   "metadata": {},
   "outputs": [
    {
     "data": {
      "text/plain": [
       "{'task_id': 'HumanEval/0',\n",
       " 'completion': '# Complete function definition here\\nimport numpy as np\\n = np.array(list(set))\\n        closeElementsList = sorted(np.abs((x-y)/threshold).tolist())',\n",
       " 'result': 'failed: unexpected indent (<string>, line 14)',\n",
       " 'passed': False}"
      ]
     },
     "execution_count": 16,
     "metadata": {},
     "output_type": "execute_result"
    }
   ],
   "source": [
    "results_fal[0]"
   ]
  },
  {
   "cell_type": "code",
   "execution_count": 17,
   "id": "ee4c467b-7165-4ca4-b8f2-0b9b5fcb3f9f",
   "metadata": {},
   "outputs": [],
   "source": [
    "def check(candidate):\n",
    "    assert candidate([1.0, 2.0, 3.9, 4.0, 5.0, 2.2], 0.3) == True\n",
    "    assert candidate([1.0, 2.0, 3.9, 4.0, 5.0, 2.2], 0.05) == False\n",
    "    assert candidate([1.0, 2.0, 5.9, 4.0, 5.0], 0.95) == True\n",
    "    assert candidate([1.0, 2.0, 5.9, 4.0, 5.0], 0.8) == False\n",
    "    assert candidate([1.0, 2.0, 3.0, 4.0, 5.0, 2.0], 0.1) == True\n",
    "    assert candidate([1.1, 2.2, 3.1, 4.1, 5.1], 1.0) == True\n",
    "    assert candidate([1.1, 2.2, 3.1, 4.1, 5.1], 0.5) == False"
   ]
  },
  {
   "cell_type": "code",
   "execution_count": 18,
   "id": "f52d5326-f8b3-42b5-ab9f-d4b843c211ff",
   "metadata": {},
   "outputs": [
    {
     "ename": "AssertionError",
     "evalue": "",
     "output_type": "error",
     "traceback": [
      "\u001b[0;31m---------------------------------------------------------------------------\u001b[0m",
      "\u001b[0;31mAssertionError\u001b[0m                            Traceback (most recent call last)",
      "Cell \u001b[0;32mIn[18], line 1\u001b[0m\n\u001b[0;32m----> 1\u001b[0m \u001b[43mcheck\u001b[49m\u001b[43m(\u001b[49m\u001b[43mhas_close_elements\u001b[49m\u001b[43m)\u001b[49m\n",
      "Cell \u001b[0;32mIn[17], line 4\u001b[0m, in \u001b[0;36mcheck\u001b[0;34m(candidate)\u001b[0m\n\u001b[1;32m      2\u001b[0m \u001b[38;5;28;01massert\u001b[39;00m candidate([\u001b[38;5;241m1.0\u001b[39m, \u001b[38;5;241m2.0\u001b[39m, \u001b[38;5;241m3.9\u001b[39m, \u001b[38;5;241m4.0\u001b[39m, \u001b[38;5;241m5.0\u001b[39m, \u001b[38;5;241m2.2\u001b[39m], \u001b[38;5;241m0.3\u001b[39m) \u001b[38;5;241m==\u001b[39m \u001b[38;5;28;01mTrue\u001b[39;00m\n\u001b[1;32m      3\u001b[0m \u001b[38;5;28;01massert\u001b[39;00m candidate([\u001b[38;5;241m1.0\u001b[39m, \u001b[38;5;241m2.0\u001b[39m, \u001b[38;5;241m3.9\u001b[39m, \u001b[38;5;241m4.0\u001b[39m, \u001b[38;5;241m5.0\u001b[39m, \u001b[38;5;241m2.2\u001b[39m], \u001b[38;5;241m0.05\u001b[39m) \u001b[38;5;241m==\u001b[39m \u001b[38;5;28;01mFalse\u001b[39;00m\n\u001b[0;32m----> 4\u001b[0m \u001b[38;5;28;01massert\u001b[39;00m candidate([\u001b[38;5;241m1.0\u001b[39m, \u001b[38;5;241m2.0\u001b[39m, \u001b[38;5;241m5.9\u001b[39m, \u001b[38;5;241m4.0\u001b[39m, \u001b[38;5;241m5.0\u001b[39m], \u001b[38;5;241m0.95\u001b[39m) \u001b[38;5;241m==\u001b[39m \u001b[38;5;28;01mTrue\u001b[39;00m\n\u001b[1;32m      5\u001b[0m \u001b[38;5;28;01massert\u001b[39;00m candidate([\u001b[38;5;241m1.0\u001b[39m, \u001b[38;5;241m2.0\u001b[39m, \u001b[38;5;241m5.9\u001b[39m, \u001b[38;5;241m4.0\u001b[39m, \u001b[38;5;241m5.0\u001b[39m], \u001b[38;5;241m0.8\u001b[39m) \u001b[38;5;241m==\u001b[39m \u001b[38;5;28;01mFalse\u001b[39;00m\n\u001b[1;32m      6\u001b[0m \u001b[38;5;28;01massert\u001b[39;00m candidate([\u001b[38;5;241m1.0\u001b[39m, \u001b[38;5;241m2.0\u001b[39m, \u001b[38;5;241m3.0\u001b[39m, \u001b[38;5;241m4.0\u001b[39m, \u001b[38;5;241m5.0\u001b[39m, \u001b[38;5;241m2.0\u001b[39m], \u001b[38;5;241m0.1\u001b[39m) \u001b[38;5;241m==\u001b[39m \u001b[38;5;28;01mTrue\u001b[39;00m\n",
      "\u001b[0;31mAssertionError\u001b[0m: "
     ]
    }
   ],
   "source": [
    "check(has_close_elements)"
   ]
  },
  {
   "cell_type": "markdown",
   "id": "f4b10eb9-add2-476b-af0d-dcfc2c4b304f",
   "metadata": {},
   "source": [
    "## generate"
   ]
  },
  {
   "cell_type": "code",
   "execution_count": 19,
   "id": "078eb1b8-6e29-47d5-b078-b67d6b37784c",
   "metadata": {},
   "outputs": [],
   "source": [
    "import os "
   ]
  },
  {
   "cell_type": "code",
   "execution_count": 20,
   "id": "7112563e-5a74-4742-8023-44856b6c3604",
   "metadata": {},
   "outputs": [],
   "source": [
    "os.environ['CUDA_VISIBLE_DEVICES']='2'"
   ]
  },
  {
   "cell_type": "code",
   "execution_count": 21,
   "id": "bdb24d71-eede-4e78-afd3-bebe541a9f0c",
   "metadata": {
    "scrolled": true
   },
   "outputs": [
    {
     "name": "stderr",
     "output_type": "stream",
     "text": [
      "/home/sami/.cache/pypoetry/virtualenvs/jerboa-e3EZTjgI-py3.10/lib/python3.10/site-packages/tqdm/auto.py:21: TqdmWarning: IProgress not found. Please update jupyter and ipywidgets. See https://ipywidgets.readthedocs.io/en/stable/user_install.html\n",
      "  from .autonotebook import tqdm as notebook_tqdm\n"
     ]
    },
    {
     "name": "stdout",
     "output_type": "stream",
     "text": [
      "\n",
      "===================================BUG REPORT===================================\n",
      "Welcome to bitsandbytes. For bug reports, please run\n",
      "\n",
      "python -m bitsandbytes\n",
      "\n",
      " and submit this information together with your error trace to: https://github.com/TimDettmers/bitsandbytes/issues\n",
      "================================================================================\n",
      "bin /home/sami/.cache/pypoetry/virtualenvs/jerboa-e3EZTjgI-py3.10/lib/python3.10/site-packages/bitsandbytes/libbitsandbytes_cuda117.so\n",
      "CUDA SETUP: CUDA runtime path found: /home/sami/.cache/pypoetry/virtualenvs/jerboa-e3EZTjgI-py3.10/lib/python3.10/site-packages/nvidia/cuda_runtime/lib/libcudart.so.11.0\n",
      "CUDA SETUP: Highest compute capability among GPUs detected: 8.6\n",
      "CUDA SETUP: Detected CUDA version 117\n",
      "CUDA SETUP: Loading binary /home/sami/.cache/pypoetry/virtualenvs/jerboa-e3EZTjgI-py3.10/lib/python3.10/site-packages/bitsandbytes/libbitsandbytes_cuda117.so...\n"
     ]
    }
   ],
   "source": [
    "from transformers import (\n",
    "    AutoTokenizer,\n",
    "    GenerationConfig\n",
    ")\n",
    "import torch\n",
    "from jerboa.utils.load_model import load_model"
   ]
  },
  {
   "cell_type": "code",
   "execution_count": 22,
   "id": "b2e7de9e-aa72-4839-be80-6a753f8c49e8",
   "metadata": {},
   "outputs": [],
   "source": [
    "from core import run_eval, instruct_prompt, filter_code\n",
    "from jerboa.run_code_eval import create_configuration\n",
    "from core import run_eval, filter_code, fix_indents"
   ]
  },
  {
   "cell_type": "code",
   "execution_count": 23,
   "id": "b6949d24-e744-4268-866f-efb56084cffd",
   "metadata": {},
   "outputs": [
    {
     "name": "stderr",
     "output_type": "stream",
     "text": [
      "Loading checkpoint shards: 100%|█████████████████| 2/2 [00:07<00:00,  3.77s/it]\n"
     ]
    }
   ],
   "source": [
    "model = torch.compile(\n",
    "    load_model(\n",
    "        \"tiiuae/falcon-7b\",\n",
    "        lora_dir=\"jinaai/falcon-7b-lora\",\n",
    "        load_in_8bit=True,\n",
    "        device_map=\"auto\",\n",
    "    ).eval()\n",
    ")\n",
    "\n",
    "tokenizer = AutoTokenizer.from_pretrained(\n",
    "    \"tiiuae/falcon-7b\",\n",
    "    trust_remote_code=True,\n",
    "    padding_side='left',\n",
    ")"
   ]
  },
  {
   "cell_type": "code",
   "execution_count": 25,
   "id": "37ead033-5f4e-4897-b359-cc8346c30a6a",
   "metadata": {},
   "outputs": [],
   "source": [
    "batch_size = 10"
   ]
  },
  {
   "cell_type": "code",
   "execution_count": 26,
   "id": "742e24b0-ff92-4b50-b86c-8b2dee4e385a",
   "metadata": {},
   "outputs": [],
   "source": [
    "input_batch = [prompt for _ in range(batch_size)]\n",
    "inputs = tokenizer(\n",
    "    input_batch, return_tensors=\"pt\", return_token_type_ids=False\n",
    ").to(model.device)\n",
    "\n",
    "prompt_input = instruct_prompt(prompt)\n",
    "input_batch = [prompt_input for _ in range(batch_size)]"
   ]
  },
  {
   "cell_type": "code",
   "execution_count": 27,
   "id": "a56df231-4964-44be-a92a-629d0f9c3874",
   "metadata": {},
   "outputs": [
    {
     "name": "stdout",
     "output_type": "stream",
     "text": [
      "Below is an instruction that describes a task. Write a response that appropriately completes the request.\n",
      "\n",
      "### Instruction:\n",
      "Complete the following Python code without any tests or explanation\n",
      "from typing import List\n",
      "\n",
      "\n",
      "def has_close_elements(numbers: List[float], threshold: float) -> bool:\n",
      "    \"\"\" Check if in given list of numbers, are any two numbers closer to each other than\n",
      "    given threshold.\n",
      "    >>> has_close_elements([1.0, 2.0, 3.0], 0.5)\n",
      "    False\n",
      "    >>> has_close_elements([1.0, 2.8, 3.0, 4.0, 5.0, 2.0], 0.3)\n",
      "    True\n",
      "    \"\"\"\n",
      "\n",
      "\n",
      "### Response:\n"
     ]
    }
   ],
   "source": [
    "print(prompt_input)"
   ]
  },
  {
   "cell_type": "code",
   "execution_count": 28,
   "id": "98023dca-7c07-453d-9ddb-fa93b1031c8c",
   "metadata": {
    "scrolled": true
   },
   "outputs": [],
   "source": [
    "inputs = tokenizer(input_batch, return_tensors=\"pt\").to(model.device)\n",
    "input_ids_cutoff = inputs.input_ids.size(dim=1)\n",
    "\n",
    "GENERATION_CONFIG = create_configuration(tokenizer)\n",
    "\n",
    "with torch.inference_mode():\n",
    "\n",
    "    generated_ids = model.generate(\n",
    "        input_ids=inputs['input_ids'],\n",
    "        attention_mask=inputs['attention_mask'],\n",
    "        generation_config=GenerationConfig(**GENERATION_CONFIG),\n",
    "    )\n",
    "\n",
    "\n",
    "batch_completions = tokenizer.batch_decode(\n",
    "    [ids[input_ids_cutoff:] for ids in generated_ids],\n",
    "    skip_special_tokens=True,\n",
    ")"
   ]
  },
  {
   "cell_type": "code",
   "execution_count": 29,
   "id": "f2495414-8401-405f-a20b-28230edb6969",
   "metadata": {},
   "outputs": [
    {
     "name": "stdout",
     "output_type": "stream",
     "text": [
      "------------------------------------\n",
      "\n",
      "import numpy as np \n",
      "\n",
      "threshold = 0.3\n",
      "nums = [[1.0, 2.0, 3.0], \n",
      "          [-4.2,-3.6-7.9],\n",
      "          [-3.8,-5.4,0.1]]\n",
      "\n",
      "# Convert all elements into floats\n",
      "for i in range(len(np.array(list))) \n",
      "    nums[i] = float(nums[i]) \n",
      "\n",
      "# Sort array based on first element and compare with second element\n",
      "sortableList = sorted(nums, key=lambda x:x[:,0][:,None].min())\n",
      "\n",
      "# Find indices where both values lie within specified distance from one another\n",
      "indices = findIndicesWithDistanceFromOneAnother(\n",
      "        sortableList, \n",
      "        thresholds=[thresholds for thresoldata in np.arange(-10., 11.)] \n",
      "    )[::-1]\n",
      "\n",
      "print(\"True\") if len(indicies)==0 else print(\"False\", indics[:20])\n",
      "------------------------------------\n",
      "\n",
      "import numpy as np\n",
      "\n",
      "threshold = 0.3\n",
      "nums = [[1.0, 2.0, 3.0],\n",
      "        [-4.0,-6.0,-7.0],\n",
      "         [10.0,11.0,12.0]]\n",
      "has_closeness = lambda nums_, thresh_: sum((np.abs(-thresh*i+j for i, j in zip(*zip(*map('x', n)))))<=len(set()))\\\n",
      "        and len(list(filter(lambda x: abs(x)<threshold, map('y', zip(*maps))))==sum((i**2+(j>0)*(k<0)+(j>=0)*(k>0)for k in range(int(math.sqrt(max(m)-min(m)/10000000))))\n",
      "------------------------------------\n",
      "\n",
      "import numpy as np \n",
      "\n",
      "threshold = 0.3\n",
      "nums = [[1.0, 2.0, 3.0],\n",
      "         [-2.0, -1.0, 1.0],\n",
      "         [3.0, -2.0, 1.0]]\n",
      "result = all((np.linalg.norm(-x+y for x, y in zip(*zip(a, b)))<thr)) and result\n",
      "------------------------------------\n",
      "\n",
      "import numpy as np\n",
      "import matplotlib.pyplots as plt\n",
      " = np.linspace(-10, 10, num=(10000))\n",
      "    \n",
      "    # Generate data for plotting\n",
      "    xs = range(len(xdata))\n",
      "    \n",
      "    yvals = map(lambda z:(z+threshold),xs)\n",
      "    fig, axarr = plt.subfigpairs(nrows=2, ncols=2)\n",
      "    \n",
      "    axarr[:,0].set_title(\"Original\")\n",
      "    axarr[:,1].scatter(*yvals) \n",
      "    axarr[0][:,:] = colormap((np.ones(size=[50])*255)/127., alpha=alpha/256.)\n",
      "    \n",
      "    plt.show()\n",
      "------------------------------------\n",
      "\n",
      "has_close_elements = lambda nums, threshold: all((nums[-i] for i in range(-len(threshold), len(thresh)-1)))\n",
      "------------------------------------\n",
      "\n",
      "# Complete function definition here\n",
      "import numpy as np\n",
      "  \n",
      "def has_closest(arr):\n",
      "    ''' Checks whether all elements of arr lie within some distance from one another.'''\n",
      "    \n",
      "    ## Compute distances between every pair of adjacent values \n",
      "    dists = abs((np.diff(array))**2).max()\n",
      "    \n",
      "    ## Return false when at least one element lies outside this range \n",
      "    return min(dists-threshold*threshold for thres and dlist in zip(*distlst)]])\n",
      "------------------------------------\n",
      "\n",
      "import numpy as np\n",
      "\n",
      "threshold = 0.3\n",
      "result = has_close_elements([np.array([])),\n",
      "                           [[-3., -7., 10.]])\n",
      "print(\"Result:\", result)\n",
      "------------------------------------\n",
      "\n",
      "# Complete this function with no test and explanations\n",
      "import numpy as np\n",
      " = []\n",
      "        for i in range(len(a)):\n",
      "            j = i+1\n",
      "\n",
      "            while abs((b[i]-b[j])<threshold):\n",
      "                nums.append(abs(np.array(list(range(min(max(x-y, x+(nums[-1]/100), y-(nums[-1]))))))))\n",
      "\n",
      "                i+=1\n",
      "                \n",
      "                    else:\n",
      "                        break\n",
      "\n",
      "        return allClose\n",
      "------------------------------------\n",
      "\n",
      "# Function Definition\n",
      "import numpy as np\n",
      "  \n",
      "def has_close_elements(nums:List[np.ndarray]) ->bool: \n",
      "    '''Check if all elements of nums array have distance less than threshold \n",
      "    between them.'''\n",
      "    \n",
      "    distances=[]\n",
      "    for i in range(len(nums)):\n",
      "        current_distance=(abs((i-j)*(-1))**2+( abs((i+k)*(-1)))**2 \n",
      "        for j in range(i+1, len(nums)-1):\n",
      "            for k in range(i+1, len(nums)+1):\n",
      "                dist=[current_distance,(distances[-1]/10000,)\n",
      "                *(max(min(np.sqrt(sum(((a*b)/200000)),\n",
      "                        -(a*b/(10^6))))),\n",
      "                    (districts[-2]+dist)]\n",
      "                    returndist==None\n",
      "------------------------------------\n",
      "\n",
      "import numpy as np\n",
      "from scipy.stats._normaltesting import normallogtest\n",
      "\n",
      "threshold = 0.03\n",
      "has_closeness = lambda nums, thresholomax: not np.any((nums[:, None]**2).sum(-np.ones),\n",
      "                                          minval=thresholomax))\n",
      "\n",
      "# Test data\n",
      "data = np.array(['1.0',\n",
      "                   '2.0',\n",
      "                   '3.0'])\n",
      "\n",
      "# Expected result\n",
      "expected = np.logspace(.01,.99,100)[::-1].astype('int')\n",
      "\n",
      "# Actual results\n",
      "result = has_closeness(np.asmatrix(data), expected)\n"
     ]
    }
   ],
   "source": [
    "for b in batch_completions:\n",
    "    print(\"------------------------------------\")\n",
    "    print(b)"
   ]
  },
  {
   "cell_type": "code",
   "execution_count": 30,
   "id": "e5adab29-becb-483e-a618-4612d0ec35f5",
   "metadata": {},
   "outputs": [],
   "source": [
    "output = [filter_code(fix_indents(completion)) for completion in batch_completions]"
   ]
  },
  {
   "cell_type": "code",
   "execution_count": 35,
   "id": "9a289801-5317-4196-8a94-23c09a267008",
   "metadata": {},
   "outputs": [
    {
     "data": {
      "text/plain": [
       "['import numpy as np']"
      ]
     },
     "execution_count": 35,
     "metadata": {},
     "output_type": "execute_result"
    }
   ],
   "source": [
    "output"
   ]
  }
 ],
 "metadata": {
  "kernelspec": {
   "display_name": "Python 3 (ipykernel)",
   "language": "python",
   "name": "python3"
  },
  "language_info": {
   "codemirror_mode": {
    "name": "ipython",
    "version": 3
   },
   "file_extension": ".py",
   "mimetype": "text/x-python",
   "name": "python",
   "nbconvert_exporter": "python",
   "pygments_lexer": "ipython3",
   "version": "3.10.6"
  }
 },
 "nbformat": 4,
 "nbformat_minor": 5
}
