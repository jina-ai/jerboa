{
 "cells": [
  {
   "cell_type": "code",
   "execution_count": 4,
   "id": "eae2b6b2-5e4b-4586-b928-63d189ed0241",
   "metadata": {},
   "outputs": [
    {
     "name": "stdout",
     "output_type": "stream",
     "text": [
      " HumanEval.jsonl        HumanEval.jsonl.gz.old\t'Untitled Folder'\n",
      " HumanEval.jsonl.gz.2   HumanEval2.jsonl\t Untitled.ipynb\n"
     ]
    }
   ],
   "source": [
    "!ls human-eval/data"
   ]
  },
  {
   "cell_type": "code",
   "execution_count": 13,
   "id": "aaed7e2a-3025-4754-8bcd-de9f1a32e137",
   "metadata": {},
   "outputs": [],
   "source": [
    "import json\n",
    "\n",
    "with open('human-eval/data/HumanEval.jsonl', 'r') as json_file:\n",
    "    json_list = list(json_file)\n",
    "\n",
    "question = [json.loads(item) for item in json_list]\n",
    "    "
   ]
  },
  {
   "cell_type": "code",
   "execution_count": 28,
   "id": "58f62c70-a158-41c2-a263-97ae43454af1",
   "metadata": {},
   "outputs": [],
   "source": [
    "import json\n",
    "\n",
    "with open('results/starcoder/eval.jsonl_results.jsonl', 'r') as json_file:\n",
    "    results = list(json_file)\n",
    "\n",
    "results_star = [json.loads(item) for item in results]"
   ]
  },
  {
   "cell_type": "code",
   "execution_count": 29,
   "id": "713adfe8-43d1-4860-918b-695852d5b332",
   "metadata": {},
   "outputs": [],
   "source": [
    "with open('results/falcon7b_code_alpaca/eval.jsonl_results.jsonl', 'r') as json_file:\n",
    "    results = list(json_file)\n",
    "\n",
    "results_fal = [json.loads(item) for item in results]"
   ]
  },
  {
   "cell_type": "code",
   "execution_count": 20,
   "id": "00957a08-6f9c-46d0-a66d-f60286f993a6",
   "metadata": {
    "scrolled": true
   },
   "outputs": [
    {
     "name": "stdout",
     "output_type": "stream",
     "text": [
      "from typing import List\n",
      "\n",
      "\n",
      "def has_close_elements(numbers: List[float], threshold: float) -> bool:\n",
      "    \"\"\" Check if in given list of numbers, are any two numbers closer to each other than\n",
      "    given threshold.\n",
      "    >>> has_close_elements([1.0, 2.0, 3.0], 0.5)\n",
      "    False\n",
      "    >>> has_close_elements([1.0, 2.8, 3.0, 4.0, 5.0, 2.0], 0.3)\n",
      "    True\n",
      "    \"\"\"\n",
      "\n"
     ]
    }
   ],
   "source": [
    "print(question[0]['prompt'])"
   ]
  },
  {
   "cell_type": "code",
   "execution_count": 45,
   "id": "a8ca8c4f-9510-4b95-963c-655ffae76c69",
   "metadata": {},
   "outputs": [
    {
     "name": "stdout",
     "output_type": "stream",
     "text": [
      "\n",
      "\n",
      "METADATA = {\n",
      "    'author': 'jt',\n",
      "    'dataset': 'test'\n",
      "}\n",
      "\n",
      "\n",
      "def check(candidate):\n",
      "    assert candidate([1.0, 2.0, 3.9, 4.0, 5.0, 2.2], 0.3) == True\n",
      "    assert candidate([1.0, 2.0, 3.9, 4.0, 5.0, 2.2], 0.05) == False\n",
      "    assert candidate([1.0, 2.0, 5.9, 4.0, 5.0], 0.95) == True\n",
      "    assert candidate([1.0, 2.0, 5.9, 4.0, 5.0], 0.8) == False\n",
      "    assert candidate([1.0, 2.0, 3.0, 4.0, 5.0, 2.0], 0.1) == True\n",
      "    assert candidate([1.1, 2.2, 3.1, 4.1, 5.1], 1.0) == True\n",
      "    assert candidate([1.1, 2.2, 3.1, 4.1, 5.1], 0.5) == False\n",
      "\n",
      "\n"
     ]
    }
   ],
   "source": [
    "print(question[0]['test'])"
   ]
  },
  {
   "cell_type": "code",
   "execution_count": 30,
   "id": "baa9e8d0-de1d-448f-a5b7-0595bc32ea77",
   "metadata": {},
   "outputs": [
    {
     "name": "stdout",
     "output_type": "stream",
     "text": [
      "    for i in range(len(numbers)):\n",
      "        for j in range(i + 1, len(numbers)):\n",
      "            if abs(numbers[i] - numbers[j]) < threshold:\n",
      "                return True\n",
      "    return False\n"
     ]
    }
   ],
   "source": [
    "print(results_star[0]['completion'])"
   ]
  },
  {
   "cell_type": "code",
   "execution_count": 32,
   "id": "55ee038e-7229-4c71-8a31-120b197033d8",
   "metadata": {},
   "outputs": [
    {
     "name": "stdout",
     "output_type": "stream",
     "text": [
      "    return sum([abs(a - b) <= threshold for a, b in zip(numbers, numbers[1:])]) > 0\n"
     ]
    }
   ],
   "source": [
    "print(results_fal[0]['completion'])"
   ]
  },
  {
   "cell_type": "code",
   "execution_count": 33,
   "id": "e319ad42-5eca-49be-ae35-e550fc0a1dd9",
   "metadata": {},
   "outputs": [],
   "source": [
    "from typing import List"
   ]
  },
  {
   "cell_type": "code",
   "execution_count": 48,
   "id": "4c899095-0b44-4739-bb61-94ac891ec664",
   "metadata": {},
   "outputs": [],
   "source": [
    "def has_close_elements(numbers: List[float], threshold: float) -> bool:\n",
    "    for i in range(len(numbers)):\n",
    "        for j in range(i + 1, len(numbers)):\n",
    "            if abs(numbers[i] - numbers[j]) < threshold:\n",
    "                return True\n",
    "    return False    "
   ]
  },
  {
   "cell_type": "code",
   "execution_count": 41,
   "id": "cc90b701-3088-440c-ab76-fd8db9f0a2a4",
   "metadata": {},
   "outputs": [
    {
     "data": {
      "text/plain": [
       "False"
      ]
     },
     "execution_count": 41,
     "metadata": {},
     "output_type": "execute_result"
    }
   ],
   "source": [
    "has_close_elements([1.0, 2.0, 3.0], 0.5)"
   ]
  },
  {
   "cell_type": "code",
   "execution_count": 42,
   "id": "3de4cc77-4868-4787-97d8-a38437686045",
   "metadata": {},
   "outputs": [
    {
     "data": {
      "text/plain": [
       "True"
      ]
     },
     "execution_count": 42,
     "metadata": {},
     "output_type": "execute_result"
    }
   ],
   "source": [
    "has_close_elements([1.0, 2.8, 3.0, 4.0, 5.0, 2.0], 0.3)"
   ]
  },
  {
   "cell_type": "code",
   "execution_count": 44,
   "id": "921a80ee-c042-4ce7-9cac-a82b2e5ce545",
   "metadata": {},
   "outputs": [],
   "source": [
    "def has_close_elements(numbers: List[float], threshold: float) -> bool:\n",
    "    return sum([abs(a - b) <= threshold for a, b in zip(numbers, numbers[1:])]) > 0"
   ]
  },
  {
   "cell_type": "code",
   "execution_count": 43,
   "id": "621b0765-a861-4b9e-97a4-4f806e0ca309",
   "metadata": {},
   "outputs": [
    {
     "data": {
      "text/plain": [
       "{'task_id': 'HumanEval/0',\n",
       " 'completion': '    return sum([abs(a - b) <= threshold for a, b in zip(numbers, numbers[1:])]) > 0',\n",
       " 'result': 'failed: ',\n",
       " 'passed': False}"
      ]
     },
     "execution_count": 43,
     "metadata": {},
     "output_type": "execute_result"
    }
   ],
   "source": [
    "results_fal[0]"
   ]
  },
  {
   "cell_type": "code",
   "execution_count": 46,
   "id": "ee4c467b-7165-4ca4-b8f2-0b9b5fcb3f9f",
   "metadata": {},
   "outputs": [],
   "source": [
    "def check(candidate):\n",
    "    assert candidate([1.0, 2.0, 3.9, 4.0, 5.0, 2.2], 0.3) == True\n",
    "    assert candidate([1.0, 2.0, 3.9, 4.0, 5.0, 2.2], 0.05) == False\n",
    "    assert candidate([1.0, 2.0, 5.9, 4.0, 5.0], 0.95) == True\n",
    "    assert candidate([1.0, 2.0, 5.9, 4.0, 5.0], 0.8) == False\n",
    "    assert candidate([1.0, 2.0, 3.0, 4.0, 5.0, 2.0], 0.1) == True\n",
    "    assert candidate([1.1, 2.2, 3.1, 4.1, 5.1], 1.0) == True\n",
    "    assert candidate([1.1, 2.2, 3.1, 4.1, 5.1], 0.5) == False"
   ]
  },
  {
   "cell_type": "code",
   "execution_count": 49,
   "id": "f52d5326-f8b3-42b5-ab9f-d4b843c211ff",
   "metadata": {},
   "outputs": [],
   "source": [
    "check(has_close_elements)"
   ]
  },
  {
   "cell_type": "markdown",
   "id": "f4b10eb9-add2-476b-af0d-dcfc2c4b304f",
   "metadata": {},
   "source": [
    "## generate"
   ]
  },
  {
   "cell_type": "code",
   "execution_count": 2,
   "id": "bdb24d71-eede-4e78-afd3-bebe541a9f0c",
   "metadata": {},
   "outputs": [
    {
     "name": "stderr",
     "output_type": "stream",
     "text": [
      "/home/sami/.cache/pypoetry/virtualenvs/jerboa-e3EZTjgI-py3.10/lib/python3.10/site-packages/tqdm/auto.py:21: TqdmWarning: IProgress not found. Please update jupyter and ipywidgets. See https://ipywidgets.readthedocs.io/en/stable/user_install.html\n",
      "  from .autonotebook import tqdm as notebook_tqdm\n"
     ]
    },
    {
     "name": "stdout",
     "output_type": "stream",
     "text": [
      "\n",
      "===================================BUG REPORT===================================\n",
      "Welcome to bitsandbytes. For bug reports, please run\n",
      "\n",
      "python -m bitsandbytes\n",
      "\n",
      " and submit this information together with your error trace to: https://github.com/TimDettmers/bitsandbytes/issues\n",
      "================================================================================\n",
      "bin /home/sami/.cache/pypoetry/virtualenvs/jerboa-e3EZTjgI-py3.10/lib/python3.10/site-packages/bitsandbytes/libbitsandbytes_cuda117.so\n",
      "CUDA SETUP: CUDA runtime path found: /home/sami/.cache/pypoetry/virtualenvs/jerboa-e3EZTjgI-py3.10/lib/python3.10/site-packages/nvidia/cuda_runtime/lib/libcudart.so.11.0\n",
      "CUDA SETUP: Highest compute capability among GPUs detected: 8.6\n",
      "CUDA SETUP: Detected CUDA version 117\n",
      "CUDA SETUP: Loading binary /home/sami/.cache/pypoetry/virtualenvs/jerboa-e3EZTjgI-py3.10/lib/python3.10/site-packages/bitsandbytes/libbitsandbytes_cuda117.so...\n"
     ]
    }
   ],
   "source": [
    "from transformers import (\n",
    "    AutoTokenizer,\n",
    ")\n",
    "import torch\n",
    "from jerboa.utils.load_model import load_model"
   ]
  },
  {
   "cell_type": "code",
   "execution_count": 4,
   "id": "0c59e36f-6b53-4984-be33-c1b112fd67c6",
   "metadata": {},
   "outputs": [],
   "source": [
    "import os "
   ]
  },
  {
   "cell_type": "code",
   "execution_count": 6,
   "id": "3e4ee3d7-e1cb-476d-87ad-e73f1011ad7b",
   "metadata": {},
   "outputs": [],
   "source": [
    "os.environ['CUDA_VISIBLE_DEVICES']='2'"
   ]
  },
  {
   "cell_type": "code",
   "execution_count": 8,
   "id": "b6949d24-e744-4268-866f-efb56084cffd",
   "metadata": {},
   "outputs": [
    {
     "name": "stderr",
     "output_type": "stream",
     "text": [
      "Loading checkpoint shards: 100%|█████████████████| 2/2 [00:07<00:00,  3.98s/it]\n"
     ]
    }
   ],
   "source": [
    "model = torch.compile(\n",
    "    load_model(\n",
    "        \"tiiuae/falcon-7b\",\n",
    "        lora_dir=\"jinaai/falcon-7b-lora\",\n",
    "        load_in_8bit=True,\n",
    "    ).eval()\n",
    ")\n",
    "\n",
    "tokenizer = AutoTokenizer.from_pretrained(\"tiiuae/falcon-7b\", use_fast=False)"
   ]
  },
  {
   "cell_type": "code",
   "execution_count": null,
   "id": "6c87f6ce-059c-4f07-90be-8269c1b0f23d",
   "metadata": {},
   "outputs": [],
   "source": []
  }
 ],
 "metadata": {
  "kernelspec": {
   "display_name": "Python 3 (ipykernel)",
   "language": "python",
   "name": "python3"
  },
  "language_info": {
   "codemirror_mode": {
    "name": "ipython",
    "version": 3
   },
   "file_extension": ".py",
   "mimetype": "text/x-python",
   "name": "python",
   "nbconvert_exporter": "python",
   "pygments_lexer": "ipython3",
   "version": "3.10.6"
  }
 },
 "nbformat": 4,
 "nbformat_minor": 5
}
